{
 "cells": [
  {
   "cell_type": "code",
   "execution_count": 1,
   "metadata": {},
   "outputs": [],
   "source": [
    "import pandas as pd\n",
    "import json\n",
    "from pandas import json_normalize\n",
    "import matplotlib.pyplot as plt\n",
    "from matplotlib import font_manager"
   ]
  },
  {
   "cell_type": "code",
   "execution_count": 2,
   "metadata": {},
   "outputs": [],
   "source": [
    "fontP = font_manager.FontProperties()\n",
    "fontP.set_family('Heiti TC')\n",
    "fontP.set_size(14)\n",
    "with open('housing.json') as f:\n",
    "    dict = json.loads(f.read()) "
   ]
  },
  {
   "cell_type": "code",
   "execution_count": 3,
   "metadata": {},
   "outputs": [],
   "source": [
    "def option_list1():\n",
    "\n",
    "    datacode_list = list(dict['data'].keys())\n",
    "    dataname_list = []\n",
    "    for datacode in datacode_list:  \n",
    "        dataname_list.append(dict['data'][datacode]['name'])\n",
    "    option = pd.DataFrame(list(zip(datacode_list,dataname_list)),columns=['資料代碼','資料名稱'])\n",
    "    print(option['資料名稱'])\n",
    "    return option\n",
    "\n",
    "def option_list2(data_code):\n",
    "\n",
    "    datacolumn_list = []\n",
    "    for i in range(len(dict['data'][data_code]['c'])):\n",
    "        column = dict['data'][data_code]['c'][i]['name']\n",
    "        datacolumn_list.append(column)\n",
    "    option = pd.DataFrame(datacolumn_list,columns=['序列名稱'])  \n",
    "    print(option)\n",
    "    return datacolumn_list\n",
    "\n",
    "def dataparser(datacode,target):\n",
    "    '''Decompose the time series dataframe given datacode'''\n",
    "    df = pd.json_normalize(dict['data'][datacode],record_path='s')\n",
    "    df = df.transpose()\n",
    "    df = df[target]\n",
    "    '''Split the list into Date and Index'''\n",
    "    df = pd.DataFrame(df.dropna().to_list(),columns=['Date','Index'])\n",
    "    df['Date'] = pd.to_datetime(df['Date'])\n",
    "    df['Index'] = pd.to_numeric(df['Index'])\n",
    "    return df\n",
    "\n",
    "class Price:\n",
    "    def __init__(self,datacode,target,datacolumn_list):\n",
    "        self.df = dataparser(datacode,target)\n",
    "        self.name = dict['data'][datacode]['name']\n",
    "        self.title = datacolumn_list[target]"
   ]
  },
  {
   "cell_type": "code",
   "execution_count": 4,
   "metadata": {},
   "outputs": [
    {
     "name": "stdout",
     "output_type": "stream",
     "text": [
      "0                台灣-信義房價指數-各地區\n",
      "1               台灣-信義房價指數-台北地區\n",
      "2                台灣-國泰房價指數-各地區\n",
      "3               台灣-國泰房價指數(年增率)\n",
      "4               台灣-信義房價指數(年增率)\n",
      "5               台灣-五大行庫新承作房貸金額\n",
      "6                    台灣-住宅貸款餘額\n",
      "7                    台灣-房屋移轉登記\n",
      "8                 台灣-房屋移轉登記-交易\n",
      "9                 台灣-房屋移轉登記-拍賣\n",
      "10              台灣-五大行庫新承作房貸利率\n",
      "11        台灣-貸款負擔率vs.購置住宅貸款違約率\n",
      "12                   台灣-房市循環指標\n",
      "13    台灣-消費者購置住宅貸款vs.建商貸款(年增率)\n",
      "14             台灣-新建餘屋數vs.房價指數\n",
      "15              台灣-清華安富房價指數-全國\n",
      "16             台灣-清華安富房價指數-各地區\n",
      "17           台灣-信義房價指數vs.名目GDP\n",
      "18                  台灣-二手屋待售存量\n",
      "19             台灣-百大社區成交變化-台北市\n",
      "20                台灣-預售屋市場-台北市\n",
      "21                台灣-預售屋市場-新北市\n",
      "22                 台灣-預售屋市場-新竹\n",
      "23                台灣-預售屋市場-台中市\n",
      "24                台灣-預售屋市場-桃園市\n",
      "25                台灣-預售屋市場-台南市\n",
      "26                台灣-預售屋市場-高雄市\n",
      "27                 台灣-成屋市場-台北市\n",
      "28                 台灣-成屋市場-新北市\n",
      "29                  台灣-成屋市場-新竹\n",
      "30                 台灣-成屋市場-台中市\n",
      "31                 台灣-成屋市場-桃園市\n",
      "32                 台灣-成屋市場-台南市\n",
      "33                 台灣-成屋市場-高雄市\n",
      "34               台灣-預售屋單價減成屋單價\n",
      "35                   台灣-成屋每坪單價\n",
      "36                  台灣-預售屋每坪單價\n",
      "37                 台灣-營造工程物價指數\n",
      "38                台灣-預售屋及成屋成交量\n",
      "Name: 資料名稱, dtype: object\n",
      "   序列名稱\n",
      "0  台灣地區\n",
      "1   台北市\n",
      "2   新北市\n",
      "3   桃園市\n",
      "4  新竹縣市\n",
      "5   台中市\n",
      "6   高雄市\n"
     ]
    },
    {
     "data": {
      "text/plain": [
       "Text(0.5, 1.0, '台灣-信義房價指數(年增率)/台北市')"
      ]
     },
     "execution_count": 4,
     "metadata": {},
     "output_type": "execute_result"
    },
    {
     "data": {
      "image/png": "[encoded data removed]",
      "text/plain": [
       "<Figure size 432x288 with 1 Axes>"
      ]
     },
     "metadata": {
      "needs_background": "light"
     },
     "output_type": "display_data"
    }
   ],
   "source": [
    "datacode = option_list1().iloc[int(input('請輸入資料代碼')),0]\n",
    "datacolumn_list = option_list2(datacode)\n",
    "target = int(input('請輸入代號'))\n",
    "\n",
    "price1 = Price(datacode,target,datacolumn_list)\n",
    "price1.df.plot('Date','Index',legend=False)\n",
    "plt.title(f\"{price1.name}/{price1.title}\",fontproperties=fontP)\n"
   ]
  }
 ],
 "metadata": {
  "kernelspec": {
   "display_name": "Python 3.7.3 64-bit",
   "language": "python",
   "name": "python3"
  },
  "language_info": {
   "codemirror_mode": {
    "name": "ipython",
    "version": 3
   },
   "file_extension": ".py",
   "mimetype": "text/x-python",
   "name": "python",
   "nbconvert_exporter": "python",
   "pygments_lexer": "ipython3",
   "version": "3.7.3"
  },
  "orig_nbformat": 4,
  "vscode": {
   "interpreter": {
    "hash": "31f2aee4e71d21fbe5cf8b01ff0e069b9275f58929596ceb00d14d90e3e16cd6"
   }
  }
 },
 "nbformat": 4,
 "nbformat_minor": 2
}
